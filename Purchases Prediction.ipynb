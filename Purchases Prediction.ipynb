{
 "cells": [
  {
   "cell_type": "markdown",
   "id": "f0c58224",
   "metadata": {},
   "source": [
    "# Import Used Libraries"
   ]
  },
  {
   "cell_type": "code",
   "execution_count": 1,
   "id": "f39b8265",
   "metadata": {},
   "outputs": [],
   "source": [
    "import numpy as np\n",
    "import pandas as pd\n",
    "from sklearn.utils import shuffle\n",
    "from matplotlib import pyplot as plt "
   ]
  },
  {
   "cell_type": "markdown",
   "id": "dc304a29",
   "metadata": {},
   "source": [
    "# Reading Dataset from CSV"
   ]
  },
  {
   "cell_type": "code",
   "execution_count": 2,
   "id": "11b3ba52",
   "metadata": {
    "scrolled": true
   },
   "outputs": [],
   "source": [
    "Dataset = pd.read_csv(r\"C:\\Users\\Mostafa Elgendy\\PycharmProjects\\Logistic Regression\\customer_data.csv\") #Official Dataset\n",
    "\n",
    "# copy of DataSet\n",
    "Dataset_copy=Dataset.copy()"
   ]
  },
  {
   "cell_type": "markdown",
   "id": "32a47b5a",
   "metadata": {},
   "source": [
    "# Getting Info About Data"
   ]
  },
  {
   "cell_type": "code",
   "execution_count": 3,
   "id": "06b7cf94",
   "metadata": {},
   "outputs": [
    {
     "data": {
      "text/html": [
       "<div>\n",
       "<style scoped>\n",
       "    .dataframe tbody tr th:only-of-type {\n",
       "        vertical-align: middle;\n",
       "    }\n",
       "\n",
       "    .dataframe tbody tr th {\n",
       "        vertical-align: top;\n",
       "    }\n",
       "\n",
       "    .dataframe thead th {\n",
       "        text-align: right;\n",
       "    }\n",
       "</style>\n",
       "<table border=\"1\" class=\"dataframe\">\n",
       "  <thead>\n",
       "    <tr style=\"text-align: right;\">\n",
       "      <th></th>\n",
       "      <th>age</th>\n",
       "      <th>salary</th>\n",
       "      <th>purchased</th>\n",
       "    </tr>\n",
       "  </thead>\n",
       "  <tbody>\n",
       "    <tr>\n",
       "      <th>0</th>\n",
       "      <td>44</td>\n",
       "      <td>39000</td>\n",
       "      <td>0</td>\n",
       "    </tr>\n",
       "    <tr>\n",
       "      <th>1</th>\n",
       "      <td>32</td>\n",
       "      <td>120000</td>\n",
       "      <td>1</td>\n",
       "    </tr>\n",
       "    <tr>\n",
       "      <th>2</th>\n",
       "      <td>38</td>\n",
       "      <td>50000</td>\n",
       "      <td>0</td>\n",
       "    </tr>\n",
       "    <tr>\n",
       "      <th>3</th>\n",
       "      <td>32</td>\n",
       "      <td>135000</td>\n",
       "      <td>1</td>\n",
       "    </tr>\n",
       "    <tr>\n",
       "      <th>4</th>\n",
       "      <td>52</td>\n",
       "      <td>21000</td>\n",
       "      <td>1</td>\n",
       "    </tr>\n",
       "    <tr>\n",
       "      <th>...</th>\n",
       "      <td>...</td>\n",
       "      <td>...</td>\n",
       "      <td>...</td>\n",
       "    </tr>\n",
       "    <tr>\n",
       "      <th>395</th>\n",
       "      <td>27</td>\n",
       "      <td>96000</td>\n",
       "      <td>1</td>\n",
       "    </tr>\n",
       "    <tr>\n",
       "      <th>396</th>\n",
       "      <td>23</td>\n",
       "      <td>63000</td>\n",
       "      <td>0</td>\n",
       "    </tr>\n",
       "    <tr>\n",
       "      <th>397</th>\n",
       "      <td>48</td>\n",
       "      <td>33000</td>\n",
       "      <td>1</td>\n",
       "    </tr>\n",
       "    <tr>\n",
       "      <th>398</th>\n",
       "      <td>48</td>\n",
       "      <td>90000</td>\n",
       "      <td>1</td>\n",
       "    </tr>\n",
       "    <tr>\n",
       "      <th>399</th>\n",
       "      <td>42</td>\n",
       "      <td>104000</td>\n",
       "      <td>1</td>\n",
       "    </tr>\n",
       "  </tbody>\n",
       "</table>\n",
       "<p>400 rows × 3 columns</p>\n",
       "</div>"
      ],
      "text/plain": [
       "     age  salary  purchased\n",
       "0     44   39000          0\n",
       "1     32  120000          1\n",
       "2     38   50000          0\n",
       "3     32  135000          1\n",
       "4     52   21000          1\n",
       "..   ...     ...        ...\n",
       "395   27   96000          1\n",
       "396   23   63000          0\n",
       "397   48   33000          1\n",
       "398   48   90000          1\n",
       "399   42  104000          1\n",
       "\n",
       "[400 rows x 3 columns]"
      ]
     },
     "execution_count": 3,
     "metadata": {},
     "output_type": "execute_result"
    }
   ],
   "source": [
    "# shows all Data of the Dateset\n",
    "Dataset_copy"
   ]
  },
  {
   "cell_type": "code",
   "execution_count": 4,
   "id": "9084b713",
   "metadata": {},
   "outputs": [
    {
     "data": {
      "text/html": [
       "<div>\n",
       "<style scoped>\n",
       "    .dataframe tbody tr th:only-of-type {\n",
       "        vertical-align: middle;\n",
       "    }\n",
       "\n",
       "    .dataframe tbody tr th {\n",
       "        vertical-align: top;\n",
       "    }\n",
       "\n",
       "    .dataframe thead th {\n",
       "        text-align: right;\n",
       "    }\n",
       "</style>\n",
       "<table border=\"1\" class=\"dataframe\">\n",
       "  <thead>\n",
       "    <tr style=\"text-align: right;\">\n",
       "      <th></th>\n",
       "      <th>age</th>\n",
       "      <th>salary</th>\n",
       "      <th>purchased</th>\n",
       "    </tr>\n",
       "  </thead>\n",
       "  <tbody>\n",
       "    <tr>\n",
       "      <th>0</th>\n",
       "      <td>44</td>\n",
       "      <td>39000</td>\n",
       "      <td>0</td>\n",
       "    </tr>\n",
       "    <tr>\n",
       "      <th>1</th>\n",
       "      <td>32</td>\n",
       "      <td>120000</td>\n",
       "      <td>1</td>\n",
       "    </tr>\n",
       "    <tr>\n",
       "      <th>2</th>\n",
       "      <td>38</td>\n",
       "      <td>50000</td>\n",
       "      <td>0</td>\n",
       "    </tr>\n",
       "    <tr>\n",
       "      <th>3</th>\n",
       "      <td>32</td>\n",
       "      <td>135000</td>\n",
       "      <td>1</td>\n",
       "    </tr>\n",
       "    <tr>\n",
       "      <th>4</th>\n",
       "      <td>52</td>\n",
       "      <td>21000</td>\n",
       "      <td>1</td>\n",
       "    </tr>\n",
       "  </tbody>\n",
       "</table>\n",
       "</div>"
      ],
      "text/plain": [
       "   age  salary  purchased\n",
       "0   44   39000          0\n",
       "1   32  120000          1\n",
       "2   38   50000          0\n",
       "3   32  135000          1\n",
       "4   52   21000          1"
      ]
     },
     "execution_count": 4,
     "metadata": {},
     "output_type": "execute_result"
    }
   ],
   "source": [
    "# Showing the Head of Dataset what does it contains and sample of data\n",
    "Dataset_copy.head() "
   ]
  },
  {
   "cell_type": "code",
   "execution_count": 5,
   "id": "9f312836",
   "metadata": {},
   "outputs": [
    {
     "name": "stdout",
     "output_type": "stream",
     "text": [
      "<class 'pandas.core.frame.DataFrame'>\n",
      "RangeIndex: 400 entries, 0 to 399\n",
      "Data columns (total 3 columns):\n",
      " #   Column     Non-Null Count  Dtype\n",
      "---  ------     --------------  -----\n",
      " 0   age        400 non-null    int64\n",
      " 1   salary     400 non-null    int64\n",
      " 2   purchased  400 non-null    int64\n",
      "dtypes: int64(3)\n",
      "memory usage: 9.5 KB\n"
     ]
    }
   ],
   "source": [
    "## 400 Records without any NULL Value\n",
    "Dataset_copy.info() "
   ]
  },
  {
   "cell_type": "code",
   "execution_count": 6,
   "id": "0ca60fe9",
   "metadata": {},
   "outputs": [
    {
     "data": {
      "text/html": [
       "<div>\n",
       "<style scoped>\n",
       "    .dataframe tbody tr th:only-of-type {\n",
       "        vertical-align: middle;\n",
       "    }\n",
       "\n",
       "    .dataframe tbody tr th {\n",
       "        vertical-align: top;\n",
       "    }\n",
       "\n",
       "    .dataframe thead th {\n",
       "        text-align: right;\n",
       "    }\n",
       "</style>\n",
       "<table border=\"1\" class=\"dataframe\">\n",
       "  <thead>\n",
       "    <tr style=\"text-align: right;\">\n",
       "      <th></th>\n",
       "      <th>age</th>\n",
       "      <th>salary</th>\n",
       "      <th>purchased</th>\n",
       "    </tr>\n",
       "  </thead>\n",
       "  <tbody>\n",
       "    <tr>\n",
       "      <th>count</th>\n",
       "      <td>400.0</td>\n",
       "      <td>400.0</td>\n",
       "      <td>400.0</td>\n",
       "    </tr>\n",
       "    <tr>\n",
       "      <th>mean</th>\n",
       "      <td>38.0</td>\n",
       "      <td>69742.0</td>\n",
       "      <td>0.0</td>\n",
       "    </tr>\n",
       "    <tr>\n",
       "      <th>std</th>\n",
       "      <td>10.0</td>\n",
       "      <td>34097.0</td>\n",
       "      <td>0.0</td>\n",
       "    </tr>\n",
       "    <tr>\n",
       "      <th>min</th>\n",
       "      <td>18.0</td>\n",
       "      <td>15000.0</td>\n",
       "      <td>0.0</td>\n",
       "    </tr>\n",
       "    <tr>\n",
       "      <th>25%</th>\n",
       "      <td>30.0</td>\n",
       "      <td>43000.0</td>\n",
       "      <td>0.0</td>\n",
       "    </tr>\n",
       "    <tr>\n",
       "      <th>50%</th>\n",
       "      <td>37.0</td>\n",
       "      <td>70000.0</td>\n",
       "      <td>0.0</td>\n",
       "    </tr>\n",
       "    <tr>\n",
       "      <th>75%</th>\n",
       "      <td>46.0</td>\n",
       "      <td>88000.0</td>\n",
       "      <td>1.0</td>\n",
       "    </tr>\n",
       "    <tr>\n",
       "      <th>max</th>\n",
       "      <td>60.0</td>\n",
       "      <td>150000.0</td>\n",
       "      <td>1.0</td>\n",
       "    </tr>\n",
       "  </tbody>\n",
       "</table>\n",
       "</div>"
      ],
      "text/plain": [
       "         age    salary  purchased\n",
       "count  400.0     400.0      400.0\n",
       "mean    38.0   69742.0        0.0\n",
       "std     10.0   34097.0        0.0\n",
       "min     18.0   15000.0        0.0\n",
       "25%     30.0   43000.0        0.0\n",
       "50%     37.0   70000.0        0.0\n",
       "75%     46.0   88000.0        1.0\n",
       "max     60.0  150000.0        1.0"
      ]
     },
     "execution_count": 6,
     "metadata": {},
     "output_type": "execute_result"
    }
   ],
   "source": [
    "# Getting Numerical Statistical Measures\n",
    "Dataset_copy.describe().round()"
   ]
  },
  {
   "cell_type": "markdown",
   "id": "a189c371",
   "metadata": {},
   "source": [
    "# Minimax Scaler"
   ]
  },
  {
   "cell_type": "code",
   "execution_count": 7,
   "id": "a0d907fd",
   "metadata": {
    "scrolled": true
   },
   "outputs": [],
   "source": [
    "Dataset_copy[\"age\"]=(Dataset_copy[\"age\"]-np.min(Dataset_copy[\"age\"]))/(np.max(Dataset_copy[\"age\"])-np.min(Dataset_copy[\"age\"]))\n",
    "\n",
    "Dataset_copy[\"salary\"]=(Dataset_copy[\"salary\"]-np.min(Dataset_copy[\"salary\"]))/(np.max(Dataset_copy[\"salary\"])-np.min(Dataset_copy[\"salary\"]))\n"
   ]
  },
  {
   "cell_type": "code",
   "execution_count": 8,
   "id": "4e4ee192",
   "metadata": {},
   "outputs": [
    {
     "data": {
      "text/html": [
       "<div>\n",
       "<style scoped>\n",
       "    .dataframe tbody tr th:only-of-type {\n",
       "        vertical-align: middle;\n",
       "    }\n",
       "\n",
       "    .dataframe tbody tr th {\n",
       "        vertical-align: top;\n",
       "    }\n",
       "\n",
       "    .dataframe thead th {\n",
       "        text-align: right;\n",
       "    }\n",
       "</style>\n",
       "<table border=\"1\" class=\"dataframe\">\n",
       "  <thead>\n",
       "    <tr style=\"text-align: right;\">\n",
       "      <th></th>\n",
       "      <th>age</th>\n",
       "      <th>salary</th>\n",
       "      <th>purchased</th>\n",
       "    </tr>\n",
       "  </thead>\n",
       "  <tbody>\n",
       "    <tr>\n",
       "      <th>0</th>\n",
       "      <td>0.619048</td>\n",
       "      <td>0.177778</td>\n",
       "      <td>0</td>\n",
       "    </tr>\n",
       "    <tr>\n",
       "      <th>1</th>\n",
       "      <td>0.333333</td>\n",
       "      <td>0.777778</td>\n",
       "      <td>1</td>\n",
       "    </tr>\n",
       "    <tr>\n",
       "      <th>2</th>\n",
       "      <td>0.476190</td>\n",
       "      <td>0.259259</td>\n",
       "      <td>0</td>\n",
       "    </tr>\n",
       "    <tr>\n",
       "      <th>3</th>\n",
       "      <td>0.333333</td>\n",
       "      <td>0.888889</td>\n",
       "      <td>1</td>\n",
       "    </tr>\n",
       "    <tr>\n",
       "      <th>4</th>\n",
       "      <td>0.809524</td>\n",
       "      <td>0.044444</td>\n",
       "      <td>1</td>\n",
       "    </tr>\n",
       "  </tbody>\n",
       "</table>\n",
       "</div>"
      ],
      "text/plain": [
       "        age    salary  purchased\n",
       "0  0.619048  0.177778          0\n",
       "1  0.333333  0.777778          1\n",
       "2  0.476190  0.259259          0\n",
       "3  0.333333  0.888889          1\n",
       "4  0.809524  0.044444          1"
      ]
     },
     "execution_count": 8,
     "metadata": {},
     "output_type": "execute_result"
    }
   ],
   "source": [
    "# Showing Sample Data After Scalling\n",
    "Dataset_copy.head()   "
   ]
  },
  {
   "cell_type": "markdown",
   "id": "46bedbe4",
   "metadata": {},
   "source": [
    "# Shuffle and Splitting the Dataset"
   ]
  },
  {
   "cell_type": "code",
   "execution_count": 9,
   "id": "936e514a",
   "metadata": {
    "scrolled": true
   },
   "outputs": [],
   "source": [
    "# the Training X features\n",
    "x = Dataset_copy[[\"age\",\"salary\"]].values\n",
    "\n",
    "# actual Output Value\n",
    "y= Dataset_copy[\"purchased\"].values       "
   ]
  },
  {
   "cell_type": "code",
   "execution_count": 10,
   "id": "71096616",
   "metadata": {},
   "outputs": [],
   "source": [
    "#Shuffle Dataset and split\n",
    "from sklearn.model_selection import train_test_split\n",
    "x_Train, x_Test, y_Train, y_Test = train_test_split(x, y, test_size=0.2, random_state=1,shuffle=True)"
   ]
  },
  {
   "cell_type": "code",
   "execution_count": 11,
   "id": "9d9a306c",
   "metadata": {},
   "outputs": [
    {
     "data": {
      "text/html": [
       "<div>\n",
       "<style scoped>\n",
       "    .dataframe tbody tr th:only-of-type {\n",
       "        vertical-align: middle;\n",
       "    }\n",
       "\n",
       "    .dataframe tbody tr th {\n",
       "        vertical-align: top;\n",
       "    }\n",
       "\n",
       "    .dataframe thead th {\n",
       "        text-align: right;\n",
       "    }\n",
       "</style>\n",
       "<table border=\"1\" class=\"dataframe\">\n",
       "  <thead>\n",
       "    <tr style=\"text-align: right;\">\n",
       "      <th></th>\n",
       "      <th>age</th>\n",
       "      <th>salary</th>\n",
       "      <th>purchased</th>\n",
       "    </tr>\n",
       "  </thead>\n",
       "  <tbody>\n",
       "    <tr>\n",
       "      <th>0</th>\n",
       "      <td>0.619048</td>\n",
       "      <td>0.177778</td>\n",
       "      <td>0</td>\n",
       "    </tr>\n",
       "    <tr>\n",
       "      <th>1</th>\n",
       "      <td>0.333333</td>\n",
       "      <td>0.777778</td>\n",
       "      <td>1</td>\n",
       "    </tr>\n",
       "    <tr>\n",
       "      <th>2</th>\n",
       "      <td>0.476190</td>\n",
       "      <td>0.259259</td>\n",
       "      <td>0</td>\n",
       "    </tr>\n",
       "    <tr>\n",
       "      <th>3</th>\n",
       "      <td>0.333333</td>\n",
       "      <td>0.888889</td>\n",
       "      <td>1</td>\n",
       "    </tr>\n",
       "    <tr>\n",
       "      <th>4</th>\n",
       "      <td>0.809524</td>\n",
       "      <td>0.044444</td>\n",
       "      <td>1</td>\n",
       "    </tr>\n",
       "  </tbody>\n",
       "</table>\n",
       "</div>"
      ],
      "text/plain": [
       "        age    salary  purchased\n",
       "0  0.619048  0.177778          0\n",
       "1  0.333333  0.777778          1\n",
       "2  0.476190  0.259259          0\n",
       "3  0.333333  0.888889          1\n",
       "4  0.809524  0.044444          1"
      ]
     },
     "execution_count": 11,
     "metadata": {},
     "output_type": "execute_result"
    }
   ],
   "source": [
    "#show Dataset Shuffled\n",
    "Dataset_copy.head()"
   ]
  },
  {
   "cell_type": "markdown",
   "id": "060bc50a",
   "metadata": {},
   "source": [
    "# Machine Learning Model \" Logistic Regression\""
   ]
  },
  {
   "cell_type": "markdown",
   "id": "de06d07f",
   "metadata": {},
   "source": [
    "## Split Dataset to Training, Testing"
   ]
  },
  {
   "cell_type": "code",
   "execution_count": 12,
   "id": "46ed0047",
   "metadata": {},
   "outputs": [
    {
     "name": "stdout",
     "output_type": "stream",
     "text": [
      "(320, 2)\n",
      "(80, 2)\n",
      "(320,)\n",
      "(80,)\n"
     ]
    }
   ],
   "source": [
    "# See shape of Splitting Data\n",
    "\n",
    "print(x_Train.shape)\n",
    "print(x_Test.shape)\n",
    "print(y_Train.shape)\n",
    "print(y_Test.shape)"
   ]
  },
  {
   "cell_type": "markdown",
   "id": "f5637081",
   "metadata": {},
   "source": [
    "## Logistic Regression Class Implementation"
   ]
  },
  {
   "cell_type": "code",
   "execution_count": 13,
   "id": "6ccec9aa",
   "metadata": {},
   "outputs": [],
   "source": [
    "class LogisticRegression:\n",
    "    \n",
    "    Learning_rate=0\n",
    "    num_Iterations=0\n",
    "    weights=None    # Theta 1 ,2,3,.....\n",
    "    bias = None     # Theta 0\n",
    "    all_Cost=[]\n",
    "    \n",
    "    def __init__(self,Lrate,Iterations):\n",
    "        self.Learning_rate=Lrate\n",
    "        self.num_Iterations=Iterations\n",
    "        self.all_Cost=[]\n",
    "        \n",
    "    def Sigmoid_Function(self,x):\n",
    "        return 1/(1+np.exp(-x))\n",
    "    \n",
    "    def fit_Data_with_Model(self,x_Train,y_Train): # Define THetas\n",
    "        \n",
    "        Num_Of_Features= x_Train.shape[1]\n",
    "        \n",
    "        self.weights=np.zeros(Num_Of_Features)\n",
    "        \n",
    "        self.bias=0\n",
    "        \n",
    "        for i in range(self.num_Iterations):\n",
    "            #Linear Model to change to Sigmoid\n",
    "            Linear_Equation = np.dot(x_Train,self.weights) + self.bias #y=ax+b\n",
    "            \n",
    "            #Use Sigmoid Function to fit Data and find the optimal Line Predicted for Data\n",
    "            non_linear_fit_Prediction = self.Sigmoid_Function(Linear_Equation)\n",
    "            \n",
    "            # Partial Derivative of Weight\n",
    "            Diff_weight = (1/x_Train.shape[0]) * np.dot(x_Train.T , (non_linear_fit_Prediction-y_Train))    \n",
    "                                                    #2*320                 320*1\n",
    "            # Partial Derivative of bias\n",
    "            Diff_bias= (1/x_Train.shape[0]) * np.sum(non_linear_fit_Prediction-y_Train)\n",
    "            \n",
    "            #getting New Weights for THETAS\n",
    "            self.weights= self.weights - (self.Learning_rate * Diff_weight)   \n",
    "            \n",
    "            #getting New Weights for BIAS\n",
    "            self.bias= self.bias - (self.Learning_rate * Diff_bias)\n",
    "\n",
    "            #getting Cost\n",
    "            self.all_Cost.append(np.sum(abs(non_linear_fit_Prediction-y_Train)))\n",
    "            \n",
    "    def Predict(self,x_Test): # this function predicts the Y from Test Data\n",
    "        Linear_Equation= np.dot(x_Test,self.weights) + self.bias\n",
    "        y_Predicted_Test= self.Sigmoid_Function(Linear_Equation)   #80*1\n",
    "\n",
    "        List_of_YPredicted=[]\n",
    "        for y in y_Predicted_Test:\n",
    "            if y<=0.5:\n",
    "                List_of_YPredicted.append(0)\n",
    "            else:\n",
    "                List_of_YPredicted.append(1)\n",
    "        return List_of_YPredicted\n",
    "    \n",
    "    \n",
    "    def AccuracyRate(self,y_predict,y_T):\n",
    "        if y_predict!=None:\n",
    "            rightPredictions= np.sum(y_predict==y_T)\n",
    "        return rightPredictions/len(y_T)*100"
   ]
  },
  {
   "cell_type": "markdown",
   "id": "0371b819",
   "metadata": {},
   "source": [
    "# Running the Model"
   ]
  },
  {
   "cell_type": "markdown",
   "id": "21a6c8cc",
   "metadata": {},
   "source": [
    "## Test Case #1"
   ]
  },
  {
   "cell_type": "code",
   "execution_count": 14,
   "id": "f1eece86",
   "metadata": {},
   "outputs": [
    {
     "name": "stdout",
     "output_type": "stream",
     "text": [
      "Accuracy =  80.0 %\n"
     ]
    }
   ],
   "source": [
    "Model_1=LogisticRegression(0.007,8000)            \n",
    "\n",
    "Model_1.fit_Data_with_Model(x_Train,y_Train)\n",
    "\n",
    "y_predict=Model_1.Predict(x_Test)\n",
    "\n",
    "accuracy=Model_1.AccuracyRate(y_predict,y_Test)\n",
    "\n",
    "print(\"Accuracy = \",accuracy.round(),\"%\")"
   ]
  },
  {
   "cell_type": "markdown",
   "id": "95086faf",
   "metadata": {},
   "source": [
    "#### Visualize Learnable Parameters Test Case #1"
   ]
  },
  {
   "cell_type": "code",
   "execution_count": 15,
   "id": "a76404c6",
   "metadata": {},
   "outputs": [
    {
     "data": {
      "image/png": "[encoded data removed]",
      "text/plain": [
       "<Figure size 640x480 with 1 Axes>"
      ]
     },
     "metadata": {},
     "output_type": "display_data"
    }
   ],
   "source": [
    "#plt.scatter(x_Train, y_Train,color='g') \n",
    "plt.plot(Model_1.all_Cost)\n",
    "plt.xlabel('Iterations') \n",
    "plt.ylabel('Cost') \n",
    "plt.title('Cost Over Iterations Test Case #1')\n",
    "plt.show();"
   ]
  },
  {
   "cell_type": "markdown",
   "id": "a8c14878",
   "metadata": {},
   "source": [
    "## Test Case #2"
   ]
  },
  {
   "cell_type": "code",
   "execution_count": 16,
   "id": "43b5e514",
   "metadata": {},
   "outputs": [
    {
     "name": "stdout",
     "output_type": "stream",
     "text": [
      "Accuracy =  84.0 %\n"
     ]
    }
   ],
   "source": [
    "Model_2=LogisticRegression(0.01,8000)            \n",
    "\n",
    "Model_2.fit_Data_with_Model(x_Train,y_Train)\n",
    "\n",
    "y_predict=Model_2.Predict(x_Test)\n",
    "\n",
    "accuracy=Model_2.AccuracyRate(y_predict,y_Test)\n",
    "\n",
    "print(\"Accuracy = \",accuracy.round(),\"%\")"
   ]
  },
  {
   "cell_type": "markdown",
   "id": "68a2a079",
   "metadata": {},
   "source": [
    "#### Visualize Learnable Parameters Test Case #2"
   ]
  },
  {
   "cell_type": "code",
   "execution_count": 17,
   "id": "6f6f4ab0",
   "metadata": {},
   "outputs": [
    {
     "data": {
      "image/png": "[encoded data removed]",
      "text/plain": [
       "<Figure size 640x480 with 1 Axes>"
      ]
     },
     "metadata": {},
     "output_type": "display_data"
    }
   ],
   "source": [
    "plt.clf()\n",
    "plt.plot(Model_2.all_Cost)\n",
    "plt.xlabel('Iterations') \n",
    "plt.ylabel('Cost') \n",
    "plt.title('Cost Over Iterations Test Case #2')\n",
    "plt.show();"
   ]
  },
  {
   "cell_type": "markdown",
   "id": "67784e9d",
   "metadata": {},
   "source": [
    "## Test Case #3"
   ]
  },
  {
   "cell_type": "code",
   "execution_count": 18,
   "id": "f0c682ce",
   "metadata": {},
   "outputs": [
    {
     "name": "stdout",
     "output_type": "stream",
     "text": [
      "Accuracy =  89.0 %\n"
     ]
    }
   ],
   "source": [
    "Model_3=LogisticRegression(0.05,8000)            \n",
    "\n",
    "Model_3.fit_Data_with_Model(x_Train,y_Train)\n",
    "\n",
    "y_predict=Model_3.Predict(x_Test)\n",
    "\n",
    "accuracy=Model_3.AccuracyRate(y_predict,y_Test)\n",
    "\n",
    "print(\"Accuracy = \",accuracy.round(),\"%\")"
   ]
  },
  {
   "cell_type": "markdown",
   "id": "dc5ffc12",
   "metadata": {},
   "source": [
    "#### Visualize Learnable Parameters Test Case #3"
   ]
  },
  {
   "cell_type": "code",
   "execution_count": 19,
   "id": "6cb712af",
   "metadata": {},
   "outputs": [
    {
     "data": {
      "image/png": "[encoded data removed]",
      "text/plain": [
       "<Figure size 640x480 with 1 Axes>"
      ]
     },
     "metadata": {},
     "output_type": "display_data"
    }
   ],
   "source": [
    "plt.clf()\n",
    "plt.plot(Model_3.all_Cost)\n",
    "plt.xlabel('Iterations') \n",
    "plt.ylabel('Cost') \n",
    "plt.title('Cost Over Iterations Test Case #3')\n",
    "plt.show();"
   ]
  },
  {
   "cell_type": "markdown",
   "id": "56dee44e",
   "metadata": {},
   "source": [
    "## Test Case #4 "
   ]
  },
  {
   "cell_type": "code",
   "execution_count": 20,
   "id": "d0aedfa2",
   "metadata": {
    "scrolled": false
   },
   "outputs": [
    {
     "name": "stdout",
     "output_type": "stream",
     "text": [
      "Accuracy =  91.0 %\n"
     ]
    }
   ],
   "source": [
    "Model_4=LogisticRegression(0.1,8000)            \n",
    "\n",
    "Model_4.fit_Data_with_Model(x_Train,y_Train)\n",
    "\n",
    "y_predict=Model_4.Predict(x_Test)\n",
    "\n",
    "accuracy=Model_4.AccuracyRate(y_predict,y_Test)\n",
    "\n",
    "print(\"Accuracy = \",accuracy.round(),\"%\")"
   ]
  },
  {
   "cell_type": "markdown",
   "id": "cf9a9c48",
   "metadata": {},
   "source": [
    "#### Visualize Learnable Parameters Test Case #4"
   ]
  },
  {
   "cell_type": "code",
   "execution_count": 21,
   "id": "c9aaad5a",
   "metadata": {},
   "outputs": [
    {
     "data": {
      "image/png": "[encoded data removed]",
      "text/plain": [
       "<Figure size 640x480 with 1 Axes>"
      ]
     },
     "metadata": {},
     "output_type": "display_data"
    }
   ],
   "source": [
    "plt.clf()\n",
    "plt.plot(Model_4.all_Cost)\n",
    "plt.xlabel('Iterations') \n",
    "plt.ylabel('Cost') \n",
    "plt.title('Cost Over Iterations Test Case #4')\n",
    "plt.show();"
   ]
  },
  {
   "cell_type": "markdown",
   "id": "506cbc9b",
   "metadata": {},
   "source": [
    "## Test Case #5"
   ]
  },
  {
   "cell_type": "code",
   "execution_count": 22,
   "id": "e29fc879",
   "metadata": {},
   "outputs": [
    {
     "name": "stdout",
     "output_type": "stream",
     "text": [
      "Accuracy =  91.0 %\n"
     ]
    }
   ],
   "source": [
    "Model_5=LogisticRegression(0.3,8000)            \n",
    "\n",
    "Model_5.fit_Data_with_Model(x_Train,y_Train)\n",
    "\n",
    "y_predict=Model_5.Predict(x_Test)\n",
    "\n",
    "accuracy=Model_5.AccuracyRate(y_predict,y_Test)\n",
    "\n",
    "print(\"Accuracy = \",accuracy.round(),\"%\")"
   ]
  },
  {
   "cell_type": "markdown",
   "id": "c3cda09e",
   "metadata": {},
   "source": [
    "#### Visualize Learnable Parameters Test Case #5"
   ]
  },
  {
   "cell_type": "code",
   "execution_count": 23,
   "id": "95001443",
   "metadata": {},
   "outputs": [
    {
     "data": {
      "image/png": "[encoded data removed]",
      "text/plain": [
       "<Figure size 640x480 with 1 Axes>"
      ]
     },
     "metadata": {},
     "output_type": "display_data"
    }
   ],
   "source": [
    "#plt.scatter(x_Train, y_Train,color='g') \n",
    "plt.plot(Model_5.all_Cost)\n",
    "plt.xlabel('Iterations') \n",
    "plt.ylabel('Cost') \n",
    "plt.title('Cost Over Iterations Test Case #5')\n",
    "plt.show();"
   ]
  },
  {
   "cell_type": "markdown",
   "id": "caaebfd0",
   "metadata": {},
   "source": [
    "# Sample For Predicted and Actual Data"
   ]
  },
  {
   "cell_type": "code",
   "execution_count": 24,
   "id": "dc43ed9f",
   "metadata": {},
   "outputs": [
    {
     "data": {
      "text/html": [
       "<div>\n",
       "<style scoped>\n",
       "    .dataframe tbody tr th:only-of-type {\n",
       "        vertical-align: middle;\n",
       "    }\n",
       "\n",
       "    .dataframe tbody tr th {\n",
       "        vertical-align: top;\n",
       "    }\n",
       "\n",
       "    .dataframe thead th {\n",
       "        text-align: right;\n",
       "    }\n",
       "</style>\n",
       "<table border=\"1\" class=\"dataframe\">\n",
       "  <thead>\n",
       "    <tr style=\"text-align: right;\">\n",
       "      <th></th>\n",
       "      <th>y_pred</th>\n",
       "      <th>y_test</th>\n",
       "    </tr>\n",
       "  </thead>\n",
       "  <tbody>\n",
       "    <tr>\n",
       "      <th>60</th>\n",
       "      <td>0</td>\n",
       "      <td>0</td>\n",
       "    </tr>\n",
       "    <tr>\n",
       "      <th>61</th>\n",
       "      <td>0</td>\n",
       "      <td>1</td>\n",
       "    </tr>\n",
       "    <tr>\n",
       "      <th>62</th>\n",
       "      <td>1</td>\n",
       "      <td>1</td>\n",
       "    </tr>\n",
       "    <tr>\n",
       "      <th>63</th>\n",
       "      <td>1</td>\n",
       "      <td>1</td>\n",
       "    </tr>\n",
       "    <tr>\n",
       "      <th>64</th>\n",
       "      <td>1</td>\n",
       "      <td>1</td>\n",
       "    </tr>\n",
       "    <tr>\n",
       "      <th>65</th>\n",
       "      <td>0</td>\n",
       "      <td>0</td>\n",
       "    </tr>\n",
       "    <tr>\n",
       "      <th>66</th>\n",
       "      <td>1</td>\n",
       "      <td>1</td>\n",
       "    </tr>\n",
       "    <tr>\n",
       "      <th>67</th>\n",
       "      <td>0</td>\n",
       "      <td>0</td>\n",
       "    </tr>\n",
       "    <tr>\n",
       "      <th>68</th>\n",
       "      <td>1</td>\n",
       "      <td>1</td>\n",
       "    </tr>\n",
       "    <tr>\n",
       "      <th>69</th>\n",
       "      <td>0</td>\n",
       "      <td>0</td>\n",
       "    </tr>\n",
       "    <tr>\n",
       "      <th>70</th>\n",
       "      <td>0</td>\n",
       "      <td>0</td>\n",
       "    </tr>\n",
       "    <tr>\n",
       "      <th>71</th>\n",
       "      <td>0</td>\n",
       "      <td>0</td>\n",
       "    </tr>\n",
       "    <tr>\n",
       "      <th>72</th>\n",
       "      <td>1</td>\n",
       "      <td>1</td>\n",
       "    </tr>\n",
       "    <tr>\n",
       "      <th>73</th>\n",
       "      <td>1</td>\n",
       "      <td>1</td>\n",
       "    </tr>\n",
       "    <tr>\n",
       "      <th>74</th>\n",
       "      <td>0</td>\n",
       "      <td>0</td>\n",
       "    </tr>\n",
       "    <tr>\n",
       "      <th>75</th>\n",
       "      <td>1</td>\n",
       "      <td>1</td>\n",
       "    </tr>\n",
       "    <tr>\n",
       "      <th>76</th>\n",
       "      <td>0</td>\n",
       "      <td>0</td>\n",
       "    </tr>\n",
       "    <tr>\n",
       "      <th>77</th>\n",
       "      <td>0</td>\n",
       "      <td>0</td>\n",
       "    </tr>\n",
       "    <tr>\n",
       "      <th>78</th>\n",
       "      <td>1</td>\n",
       "      <td>1</td>\n",
       "    </tr>\n",
       "  </tbody>\n",
       "</table>\n",
       "</div>"
      ],
      "text/plain": [
       "    y_pred  y_test\n",
       "60       0       0\n",
       "61       0       1\n",
       "62       1       1\n",
       "63       1       1\n",
       "64       1       1\n",
       "65       0       0\n",
       "66       1       1\n",
       "67       0       0\n",
       "68       1       1\n",
       "69       0       0\n",
       "70       0       0\n",
       "71       0       0\n",
       "72       1       1\n",
       "73       1       1\n",
       "74       0       0\n",
       "75       1       1\n",
       "76       0       0\n",
       "77       0       0\n",
       "78       1       1"
      ]
     },
     "execution_count": 24,
     "metadata": {},
     "output_type": "execute_result"
    }
   ],
   "source": [
    "predicted_actual = [y_predict,y_Test]\n",
    "dataframe = pd.DataFrame(predicted_actual,[\"y_pred\",\"y_test\"]).T\n",
    "dataframe[-20:-1]"
   ]
  },
  {
   "cell_type": "markdown",
   "id": "aeacec8e",
   "metadata": {},
   "source": [
    "# Learnable Parameters Values"
   ]
  },
  {
   "cell_type": "code",
   "execution_count": 25,
   "id": "b04a1a32",
   "metadata": {
    "scrolled": true
   },
   "outputs": [
    {
     "name": "stdout",
     "output_type": "stream",
     "text": [
      "Bias:  -6.267273707021508\n",
      "W1:  7.721979316324239\n",
      "W2:  4.0290093789041705\n"
     ]
    }
   ],
   "source": [
    "#Seeing Bias and weight Values\n",
    "\n",
    "print(\"Bias: \",Model_4.bias)\n",
    "print(\"W1: \",Model_4.weights[0])\n",
    "print(\"W2: \",Model_4.weights[1])"
   ]
  }
 ],
 "metadata": {
  "kernelspec": {
   "display_name": "Python 3 (ipykernel)",
   "language": "python",
   "name": "python3"
  },
  "language_info": {
   "codemirror_mode": {
    "name": "ipython",
    "version": 3
   },
   "file_extension": ".py",
   "mimetype": "text/x-python",
   "name": "python",
   "nbconvert_exporter": "python",
   "pygments_lexer": "ipython3",
   "version": "3.10.4"
  }
 },
 "nbformat": 4,
 "nbformat_minor": 5
}
